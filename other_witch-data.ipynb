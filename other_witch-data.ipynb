{
 "cells": [
  {
   "cell_type": "code",
   "execution_count": 3,
   "id": "8578941d",
   "metadata": {},
   "outputs": [],
   "source": [
    "import pandas as pd\n"
   ]
  },
  {
   "cell_type": "code",
   "execution_count": 4,
   "id": "739d0df9",
   "metadata": {},
   "outputs": [],
   "source": [
    "#loading in white magic csv\n",
    "white_magic_df = pd.read_csv('Witchcraft-csvs/WDB_WhiteMagic.csv')\n",
    "case_df = pd.read_csv('Witchcraft-csvs/WDB_Case.csv')"
   ]
  },
  {
   "cell_type": "code",
   "execution_count": 5,
   "id": "06fe607a",
   "metadata": {},
   "outputs": [
    {
     "data": {
      "text/plain": [
       "Index(['CaseRef', 'CaseId', 'CaseSystemId', 'NamedIndividual', 'AccusedRef',\n",
       "       'CaseStart_date', 'CaseStart_date_as_date', 'Case_date',\n",
       "       'Case_date_as_date', 'Age_at_case',\n",
       "       ...\n",
       "       'ClaimedPossessed', 'AdmitLesserCharge', 'ClaimedNaturalCauses',\n",
       "       'Nodefence', 'DefenseNotes', 'CaseNotes', 'Createdby', 'Createdate',\n",
       "       'Lastupdatedby', 'Lastupdatedon'],\n",
       "      dtype='object', length=111)"
      ]
     },
     "execution_count": 5,
     "metadata": {},
     "output_type": "execute_result"
    }
   ],
   "source": [
    "case_df.columns"
   ]
  },
  {
   "cell_type": "code",
   "execution_count": null,
   "id": "62072d8a",
   "metadata": {},
   "outputs": [],
   "source": []
  },
  {
   "cell_type": "code",
   "execution_count": 6,
   "id": "464e1719",
   "metadata": {},
   "outputs": [
    {
     "data": {
      "text/html": [
       "<div>\n",
       "<style scoped>\n",
       "    .dataframe tbody tr th:only-of-type {\n",
       "        vertical-align: middle;\n",
       "    }\n",
       "\n",
       "    .dataframe tbody tr th {\n",
       "        vertical-align: top;\n",
       "    }\n",
       "\n",
       "    .dataframe thead th {\n",
       "        text-align: right;\n",
       "    }\n",
       "</style>\n",
       "<table border=\"1\" class=\"dataframe\">\n",
       "  <thead>\n",
       "    <tr style=\"text-align: right;\">\n",
       "      <th></th>\n",
       "      <th>CaseRef</th>\n",
       "      <th>CaseId</th>\n",
       "      <th>CaseSystemId</th>\n",
       "      <th>NamedIndividual</th>\n",
       "      <th>AccusedRef</th>\n",
       "      <th>CaseStart_date</th>\n",
       "      <th>CaseStart_date_as_date</th>\n",
       "      <th>Case_date</th>\n",
       "      <th>Case_date_as_date</th>\n",
       "      <th>Age_at_case</th>\n",
       "      <th>...</th>\n",
       "      <th>ClaimedPossessed</th>\n",
       "      <th>AdmitLesserCharge</th>\n",
       "      <th>ClaimedNaturalCauses</th>\n",
       "      <th>Nodefence</th>\n",
       "      <th>DefenseNotes</th>\n",
       "      <th>CaseNotes</th>\n",
       "      <th>Createdby</th>\n",
       "      <th>Createdate</th>\n",
       "      <th>Lastupdatedby</th>\n",
       "      <th>Lastupdatedon</th>\n",
       "    </tr>\n",
       "  </thead>\n",
       "  <tbody>\n",
       "    <tr>\n",
       "      <th>32</th>\n",
       "      <td>C/EGD/103</td>\n",
       "      <td>103</td>\n",
       "      <td>EGD</td>\n",
       "      <td>-1.0</td>\n",
       "      <td>A/EGD/92</td>\n",
       "      <td>27/1/1591</td>\n",
       "      <td>01/27/91 00:00:00</td>\n",
       "      <td>10/5/1591</td>\n",
       "      <td>05/10/91 00:00:00</td>\n",
       "      <td>NaN</td>\n",
       "      <td>...</td>\n",
       "      <td>0</td>\n",
       "      <td>0</td>\n",
       "      <td>0</td>\n",
       "      <td>0</td>\n",
       "      <td>NaN</td>\n",
       "      <td>NaN</td>\n",
       "      <td>SMD</td>\n",
       "      <td>05/15/01 17:00:16</td>\n",
       "      <td>LEM</td>\n",
       "      <td>11/11/02 11:37:05</td>\n",
       "    </tr>\n",
       "    <tr>\n",
       "      <th>43</th>\n",
       "      <td>C/EGD/104</td>\n",
       "      <td>104</td>\n",
       "      <td>EGD</td>\n",
       "      <td>-1.0</td>\n",
       "      <td>A/EGD/93</td>\n",
       "      <td>27/1/1591</td>\n",
       "      <td>01/27/91 00:00:00</td>\n",
       "      <td>15/6/1591</td>\n",
       "      <td>06/15/91 00:00:00</td>\n",
       "      <td>NaN</td>\n",
       "      <td>...</td>\n",
       "      <td>0</td>\n",
       "      <td>0</td>\n",
       "      <td>0</td>\n",
       "      <td>0</td>\n",
       "      <td>NaN</td>\n",
       "      <td>Brought into the North Berwick stuff.</td>\n",
       "      <td>SMD</td>\n",
       "      <td>05/15/01 17:00:16</td>\n",
       "      <td>jhm</td>\n",
       "      <td>11/13/02 16:21:22</td>\n",
       "    </tr>\n",
       "    <tr>\n",
       "      <th>48</th>\n",
       "      <td>C/EGD/1045</td>\n",
       "      <td>1045</td>\n",
       "      <td>EGD</td>\n",
       "      <td>-1.0</td>\n",
       "      <td>A/EGD/1034</td>\n",
       "      <td>20/3/1628</td>\n",
       "      <td>03/20/28 00:00:00</td>\n",
       "      <td>3/7/1628</td>\n",
       "      <td>07/03/28 00:00:00</td>\n",
       "      <td>NaN</td>\n",
       "      <td>...</td>\n",
       "      <td>0</td>\n",
       "      <td>0</td>\n",
       "      <td>0</td>\n",
       "      <td>0</td>\n",
       "      <td>NaN</td>\n",
       "      <td>NaN</td>\n",
       "      <td>SMD</td>\n",
       "      <td>05/15/01 17:00:16</td>\n",
       "      <td>LEM</td>\n",
       "      <td>11/11/02 11:45:24</td>\n",
       "    </tr>\n",
       "    <tr>\n",
       "      <th>98</th>\n",
       "      <td>C/EGD/1094</td>\n",
       "      <td>1094</td>\n",
       "      <td>EGD</td>\n",
       "      <td>-1.0</td>\n",
       "      <td>A/EGD/1082</td>\n",
       "      <td>31/5/1624</td>\n",
       "      <td>05/31/24 00:00:00</td>\n",
       "      <td>11/7/1629</td>\n",
       "      <td>07/11/29 00:00:00</td>\n",
       "      <td>75.0</td>\n",
       "      <td>...</td>\n",
       "      <td>0</td>\n",
       "      <td>0</td>\n",
       "      <td>0</td>\n",
       "      <td>0</td>\n",
       "      <td>NaN</td>\n",
       "      <td>He was first denounced as a rebel on May 1624 ...</td>\n",
       "      <td>SMD</td>\n",
       "      <td>05/15/01 17:00:16</td>\n",
       "      <td>LEM</td>\n",
       "      <td>11/11/02 11:48:22</td>\n",
       "    </tr>\n",
       "    <tr>\n",
       "      <th>266</th>\n",
       "      <td>C/EGD/1258</td>\n",
       "      <td>1258</td>\n",
       "      <td>EGD</td>\n",
       "      <td>-1.0</td>\n",
       "      <td>A/EGD/1246</td>\n",
       "      <td>8/9/1630</td>\n",
       "      <td>09/08/30 00:00:00</td>\n",
       "      <td>22/2/1631</td>\n",
       "      <td>02/22/31 00:00:00</td>\n",
       "      <td>NaN</td>\n",
       "      <td>...</td>\n",
       "      <td>0</td>\n",
       "      <td>0</td>\n",
       "      <td>0</td>\n",
       "      <td>0</td>\n",
       "      <td>NaN</td>\n",
       "      <td>good description of a local trial, gives the p...</td>\n",
       "      <td>SMD</td>\n",
       "      <td>05/15/01 17:00:16</td>\n",
       "      <td>jhm</td>\n",
       "      <td>11/13/02 12:48:47</td>\n",
       "    </tr>\n",
       "    <tr>\n",
       "      <th>...</th>\n",
       "      <td>...</td>\n",
       "      <td>...</td>\n",
       "      <td>...</td>\n",
       "      <td>...</td>\n",
       "      <td>...</td>\n",
       "      <td>...</td>\n",
       "      <td>...</td>\n",
       "      <td>...</td>\n",
       "      <td>...</td>\n",
       "      <td>...</td>\n",
       "      <td>...</td>\n",
       "      <td>...</td>\n",
       "      <td>...</td>\n",
       "      <td>...</td>\n",
       "      <td>...</td>\n",
       "      <td>...</td>\n",
       "      <td>...</td>\n",
       "      <td>...</td>\n",
       "      <td>...</td>\n",
       "      <td>...</td>\n",
       "      <td>...</td>\n",
       "    </tr>\n",
       "    <tr>\n",
       "      <th>2777</th>\n",
       "      <td>C/JO/3093</td>\n",
       "      <td>3093</td>\n",
       "      <td>JO</td>\n",
       "      <td>-1.0</td>\n",
       "      <td>A/JO/2954</td>\n",
       "      <td>6/4/1597</td>\n",
       "      <td>04/06/97 00:00:00</td>\n",
       "      <td>17/4/1597</td>\n",
       "      <td>04/17/97 00:00:00</td>\n",
       "      <td>NaN</td>\n",
       "      <td>...</td>\n",
       "      <td>0</td>\n",
       "      <td>0</td>\n",
       "      <td>0</td>\n",
       "      <td>0</td>\n",
       "      <td>NaN</td>\n",
       "      <td>NaN</td>\n",
       "      <td>jhm</td>\n",
       "      <td>07/09/02 14:33:48</td>\n",
       "      <td>LEM</td>\n",
       "      <td>11/11/02 12:58:26</td>\n",
       "    </tr>\n",
       "    <tr>\n",
       "      <th>2780</th>\n",
       "      <td>C/JO/3096</td>\n",
       "      <td>3096</td>\n",
       "      <td>JO</td>\n",
       "      <td>-1.0</td>\n",
       "      <td>A/JO/2957</td>\n",
       "      <td>10/4/1597</td>\n",
       "      <td>04/10/97 00:00:00</td>\n",
       "      <td>10/4/1597</td>\n",
       "      <td>04/10/97 00:00:00</td>\n",
       "      <td>33.0</td>\n",
       "      <td>...</td>\n",
       "      <td>0</td>\n",
       "      <td>0</td>\n",
       "      <td>0</td>\n",
       "      <td>0</td>\n",
       "      <td>NaN</td>\n",
       "      <td>NaN</td>\n",
       "      <td>jhm</td>\n",
       "      <td>07/09/02 14:59:14</td>\n",
       "      <td>LEM</td>\n",
       "      <td>10/31/02 10:54:18</td>\n",
       "    </tr>\n",
       "    <tr>\n",
       "      <th>2831</th>\n",
       "      <td>C/JO/3247</td>\n",
       "      <td>3247</td>\n",
       "      <td>JO</td>\n",
       "      <td>-1.0</td>\n",
       "      <td>A/JO/3085</td>\n",
       "      <td>27/10/1677</td>\n",
       "      <td>10/27/77 00:00:00</td>\n",
       "      <td>17/11/1677</td>\n",
       "      <td>11/17/77 00:00:00</td>\n",
       "      <td>NaN</td>\n",
       "      <td>...</td>\n",
       "      <td>0</td>\n",
       "      <td>0</td>\n",
       "      <td>0</td>\n",
       "      <td>0</td>\n",
       "      <td>NaN</td>\n",
       "      <td>NaN</td>\n",
       "      <td>jhm</td>\n",
       "      <td>08/27/02 13:39:17</td>\n",
       "      <td>jhm</td>\n",
       "      <td>11/13/02 12:06:18</td>\n",
       "    </tr>\n",
       "    <tr>\n",
       "      <th>3117</th>\n",
       "      <td>C/LA/3044</td>\n",
       "      <td>3044</td>\n",
       "      <td>LA</td>\n",
       "      <td>-1.0</td>\n",
       "      <td>A/LA/2906</td>\n",
       "      <td>NaN</td>\n",
       "      <td>NaN</td>\n",
       "      <td>7/8/1602</td>\n",
       "      <td>08/07/02 00:00:00</td>\n",
       "      <td>NaN</td>\n",
       "      <td>...</td>\n",
       "      <td>0</td>\n",
       "      <td>0</td>\n",
       "      <td>0</td>\n",
       "      <td>0</td>\n",
       "      <td>NaN</td>\n",
       "      <td>NaN</td>\n",
       "      <td>LEM</td>\n",
       "      <td>06/17/02 15:11:16</td>\n",
       "      <td>LEM</td>\n",
       "      <td>12/05/02 13:00:28</td>\n",
       "    </tr>\n",
       "    <tr>\n",
       "      <th>3176</th>\n",
       "      <td>C/LA/3135</td>\n",
       "      <td>3135</td>\n",
       "      <td>LA</td>\n",
       "      <td>-1.0</td>\n",
       "      <td>A/LA/2994</td>\n",
       "      <td>19/5/1658</td>\n",
       "      <td>05/19/58 00:00:00</td>\n",
       "      <td>5/4/1659</td>\n",
       "      <td>04/05/59 00:00:00</td>\n",
       "      <td>NaN</td>\n",
       "      <td>...</td>\n",
       "      <td>0</td>\n",
       "      <td>0</td>\n",
       "      <td>0</td>\n",
       "      <td>0</td>\n",
       "      <td>NaN</td>\n",
       "      <td>NaN</td>\n",
       "      <td>LEM</td>\n",
       "      <td>07/18/02 12:18:47</td>\n",
       "      <td>LEM</td>\n",
       "      <td>10/08/02 10:49:03</td>\n",
       "    </tr>\n",
       "  </tbody>\n",
       "</table>\n",
       "<p>70 rows × 111 columns</p>\n",
       "</div>"
      ],
      "text/plain": [
       "         CaseRef  CaseId CaseSystemId  NamedIndividual  AccusedRef  \\\n",
       "32     C/EGD/103     103          EGD             -1.0    A/EGD/92   \n",
       "43     C/EGD/104     104          EGD             -1.0    A/EGD/93   \n",
       "48    C/EGD/1045    1045          EGD             -1.0  A/EGD/1034   \n",
       "98    C/EGD/1094    1094          EGD             -1.0  A/EGD/1082   \n",
       "266   C/EGD/1258    1258          EGD             -1.0  A/EGD/1246   \n",
       "...          ...     ...          ...              ...         ...   \n",
       "2777   C/JO/3093    3093           JO             -1.0   A/JO/2954   \n",
       "2780   C/JO/3096    3096           JO             -1.0   A/JO/2957   \n",
       "2831   C/JO/3247    3247           JO             -1.0   A/JO/3085   \n",
       "3117   C/LA/3044    3044           LA             -1.0   A/LA/2906   \n",
       "3176   C/LA/3135    3135           LA             -1.0   A/LA/2994   \n",
       "\n",
       "     CaseStart_date CaseStart_date_as_date   Case_date  Case_date_as_date  \\\n",
       "32        27/1/1591      01/27/91 00:00:00   10/5/1591  05/10/91 00:00:00   \n",
       "43        27/1/1591      01/27/91 00:00:00   15/6/1591  06/15/91 00:00:00   \n",
       "48        20/3/1628      03/20/28 00:00:00    3/7/1628  07/03/28 00:00:00   \n",
       "98        31/5/1624      05/31/24 00:00:00   11/7/1629  07/11/29 00:00:00   \n",
       "266        8/9/1630      09/08/30 00:00:00   22/2/1631  02/22/31 00:00:00   \n",
       "...             ...                    ...         ...                ...   \n",
       "2777       6/4/1597      04/06/97 00:00:00   17/4/1597  04/17/97 00:00:00   \n",
       "2780      10/4/1597      04/10/97 00:00:00   10/4/1597  04/10/97 00:00:00   \n",
       "2831     27/10/1677      10/27/77 00:00:00  17/11/1677  11/17/77 00:00:00   \n",
       "3117            NaN                    NaN    7/8/1602  08/07/02 00:00:00   \n",
       "3176      19/5/1658      05/19/58 00:00:00    5/4/1659  04/05/59 00:00:00   \n",
       "\n",
       "      Age_at_case  ... ClaimedPossessed AdmitLesserCharge  \\\n",
       "32            NaN  ...                0                 0   \n",
       "43            NaN  ...                0                 0   \n",
       "48            NaN  ...                0                 0   \n",
       "98           75.0  ...                0                 0   \n",
       "266           NaN  ...                0                 0   \n",
       "...           ...  ...              ...               ...   \n",
       "2777          NaN  ...                0                 0   \n",
       "2780         33.0  ...                0                 0   \n",
       "2831          NaN  ...                0                 0   \n",
       "3117          NaN  ...                0                 0   \n",
       "3176          NaN  ...                0                 0   \n",
       "\n",
       "     ClaimedNaturalCauses Nodefence  DefenseNotes  \\\n",
       "32                      0         0           NaN   \n",
       "43                      0         0           NaN   \n",
       "48                      0         0           NaN   \n",
       "98                      0         0           NaN   \n",
       "266                     0         0           NaN   \n",
       "...                   ...       ...           ...   \n",
       "2777                    0         0           NaN   \n",
       "2780                    0         0           NaN   \n",
       "2831                    0         0           NaN   \n",
       "3117                    0         0           NaN   \n",
       "3176                    0         0           NaN   \n",
       "\n",
       "                                              CaseNotes  Createdby  \\\n",
       "32                                                  NaN        SMD   \n",
       "43                Brought into the North Berwick stuff.        SMD   \n",
       "48                                                  NaN        SMD   \n",
       "98    He was first denounced as a rebel on May 1624 ...        SMD   \n",
       "266   good description of a local trial, gives the p...        SMD   \n",
       "...                                                 ...        ...   \n",
       "2777                                                NaN        jhm   \n",
       "2780                                                NaN        jhm   \n",
       "2831                                                NaN        jhm   \n",
       "3117                                                NaN        LEM   \n",
       "3176                                                NaN        LEM   \n",
       "\n",
       "             Createdate  Lastupdatedby      Lastupdatedon  \n",
       "32    05/15/01 17:00:16            LEM  11/11/02 11:37:05  \n",
       "43    05/15/01 17:00:16            jhm  11/13/02 16:21:22  \n",
       "48    05/15/01 17:00:16            LEM  11/11/02 11:45:24  \n",
       "98    05/15/01 17:00:16            LEM  11/11/02 11:48:22  \n",
       "266   05/15/01 17:00:16            jhm  11/13/02 12:48:47  \n",
       "...                 ...            ...                ...  \n",
       "2777  07/09/02 14:33:48            LEM  11/11/02 12:58:26  \n",
       "2780  07/09/02 14:59:14            LEM  10/31/02 10:54:18  \n",
       "2831  08/27/02 13:39:17            jhm  11/13/02 12:06:18  \n",
       "3117  06/17/02 15:11:16            LEM  12/05/02 13:00:28  \n",
       "3176  07/18/02 12:18:47            LEM  10/08/02 10:49:03  \n",
       "\n",
       "[70 rows x 111 columns]"
      ]
     },
     "execution_count": 6,
     "metadata": {},
     "output_type": "execute_result"
    }
   ],
   "source": [
    "case_df[(case_df.WhiteMagic_s==1)]"
   ]
  },
  {
   "cell_type": "code",
   "execution_count": 7,
   "id": "18df00bd",
   "metadata": {},
   "outputs": [],
   "source": [
    "trial_df = pd.read_csv('Witchcraft-csvs/WDB_Trial.csv')"
   ]
  },
  {
   "cell_type": "code",
   "execution_count": 8,
   "id": "d4aaa2aa",
   "metadata": {},
   "outputs": [
    {
     "data": {
      "text/plain": [
       "Verdict\n",
       "Guilty         236\n",
       "Not Guilty      45\n",
       "Not Proven      11\n",
       "Half Guilty      7\n",
       "Name: count, dtype: int64"
      ]
     },
     "execution_count": 8,
     "metadata": {},
     "output_type": "execute_result"
    }
   ],
   "source": [
    "trial_df['Verdict'].value_counts()\n"
   ]
  },
  {
   "cell_type": "code",
   "execution_count": 9,
   "id": "8f79fcae",
   "metadata": {},
   "outputs": [
    {
     "data": {
      "text/plain": [
       "Execution\n",
       "0    2981\n",
       "1     230\n",
       "Name: count, dtype: int64"
      ]
     },
     "execution_count": 9,
     "metadata": {},
     "output_type": "execute_result"
    }
   ],
   "source": [
    "trial_df['Execution'].value_counts()"
   ]
  },
  {
   "cell_type": "code",
   "execution_count": 10,
   "id": "1b84253c",
   "metadata": {},
   "outputs": [
    {
     "data": {
      "text/plain": [
       "Female_accusers\n",
       "0.0     3078\n",
       "2.0       23\n",
       "4.0       21\n",
       "1.0       12\n",
       "5.0       11\n",
       "3.0       11\n",
       "6.0        8\n",
       "16.0       8\n",
       "7.0        8\n",
       "9.0        5\n",
       "13.0       4\n",
       "12.0       4\n",
       "8.0        3\n",
       "14.0       2\n",
       "11.0       2\n",
       "19.0       2\n",
       "10.0       2\n",
       "22.0       1\n",
       "18.0       1\n",
       "27.0       1\n",
       "15.0       1\n",
       "Name: count, dtype: int64"
      ]
     },
     "execution_count": 10,
     "metadata": {},
     "output_type": "execute_result"
    }
   ],
   "source": [
    "trial_df['Female_accusers'].value_counts()"
   ]
  },
  {
   "cell_type": "code",
   "execution_count": 11,
   "id": "4fd8b569",
   "metadata": {},
   "outputs": [
    {
     "data": {
      "text/plain": [
       "Male_accusers\n",
       "0.0     3051\n",
       "2.0       17\n",
       "6.0       17\n",
       "4.0       16\n",
       "3.0       14\n",
       "7.0       14\n",
       "1.0       11\n",
       "22.0       9\n",
       "5.0        9\n",
       "8.0        8\n",
       "9.0        8\n",
       "11.0       5\n",
       "12.0       4\n",
       "10.0       4\n",
       "25.0       4\n",
       "15.0       3\n",
       "21.0       3\n",
       "14.0       3\n",
       "13.0       2\n",
       "24.0       1\n",
       "19.0       1\n",
       "48.0       1\n",
       "20.0       1\n",
       "16.0       1\n",
       "23.0       1\n",
       "43.0       1\n",
       "Name: count, dtype: int64"
      ]
     },
     "execution_count": 11,
     "metadata": {},
     "output_type": "execute_result"
    }
   ],
   "source": [
    "trial_df['Male_accusers'].value_counts()"
   ]
  },
  {
   "cell_type": "code",
   "execution_count": 12,
   "id": "5f1a40c7",
   "metadata": {},
   "outputs": [
    {
     "data": {
      "text/plain": [
       "Sentence\n",
       "Execution             205\n",
       "Released               52\n",
       "Banishment             27\n",
       "Declared Fugitive      11\n",
       "Excommunicated          6\n",
       "Put to the horn         2\n",
       "Hang                    1\n",
       "Branded                 1\n",
       "Prison                  1\n",
       "Public Humiliation      1\n",
       "Name: count, dtype: int64"
      ]
     },
     "execution_count": 12,
     "metadata": {},
     "output_type": "execute_result"
    }
   ],
   "source": [
    "trial_df['Sentence'].value_counts()"
   ]
  },
  {
   "cell_type": "code",
   "execution_count": 13,
   "id": "c2a7d249",
   "metadata": {},
   "outputs": [
    {
     "data": {
      "text/plain": [
       "Executionmethod\n",
       "Strangle & Burn    125\n",
       "Burn                46\n",
       "Beheading            3\n",
       "Hang                 1\n",
       "Name: count, dtype: int64"
      ]
     },
     "execution_count": 13,
     "metadata": {},
     "output_type": "execute_result"
    }
   ],
   "source": [
    "trial_df['Executionmethod'].value_counts()"
   ]
  },
  {
   "cell_type": "code",
   "execution_count": 14,
   "id": "4b1f06d2",
   "metadata": {},
   "outputs": [
    {
     "data": {
      "text/plain": [
       "Index(['Trialref', 'TrialId', 'TrialSystemId', 'CaseRef', 'TrialType',\n",
       "       'Trial_settlement', 'Trial_parish', 'Trial_presbytery', 'Trial_county',\n",
       "       'Trial_burgh', 'Trial_NGR_Letters', 'Trial_NGR_Easting',\n",
       "       'Trial_NGR_Northing', 'Watching', 'WatchingDate',\n",
       "       'WatchingDate_as_date', 'Arrest', 'ArrestDate', 'ArrestDate_as_date',\n",
       "       'Fled', 'FledDate', 'FledDate_as_date', 'ActionDropped',\n",
       "       'Actiondropdate', 'Actiondropdate_as_date', 'Actiondroppedby',\n",
       "       'Actionbody', 'Confrontingsuspects', 'PretrialNotes', 'ProcessType',\n",
       "       'TrialDate', 'TrialDate_as_date', 'TrialPlace', 'Female_accusers',\n",
       "       'Male_accusers', 'High_status', 'Defence', 'Verdict', 'Sentence',\n",
       "       'Cjtorder', 'Cjtdate', 'Cjtdate_as_date', 'Circuit', 'Circuitname',\n",
       "       'Localwithcrep', 'Noreftocentral', 'TrialNotes', 'Execution',\n",
       "       'Executionmethod', 'ExecutionDate', 'ExecutionDate_as_date',\n",
       "       'ExecutionPlace', 'Exec_settlement', 'Exec_parish', 'Exec_presbytery',\n",
       "       'Exec_county', 'Exec_burgh', 'Exec_NGR_Letters', 'Exec_NGR_Easting',\n",
       "       'Exec_NGR_Northing', 'PostTrialNotes', 'Createdby', 'Createdate',\n",
       "       'Lastupdatedby', 'Lastupdatedon'],\n",
       "      dtype='object')"
      ]
     },
     "execution_count": 14,
     "metadata": {},
     "output_type": "execute_result"
    }
   ],
   "source": [
    "trial_df.columns"
   ]
  },
  {
   "cell_type": "code",
   "execution_count": 15,
   "id": "ee4ba046",
   "metadata": {},
   "outputs": [],
   "source": [
    "#merging the trial and case files\n",
    "trialcase = trial_df.merge(case_df, on = 'CaseRef', how = 'left')"
   ]
  },
  {
   "cell_type": "code",
   "execution_count": 16,
   "id": "06278e78",
   "metadata": {},
   "outputs": [],
   "source": [
    "#now adding in the accused file \n",
    "df_accused = pd.read_csv('Witchcraft-csvs/WDB_Accused.csv')"
   ]
  },
  {
   "cell_type": "code",
   "execution_count": 17,
   "id": "cc19af19",
   "metadata": {},
   "outputs": [],
   "source": [
    "accusedtrialcase = df_accused.merge(trialcase, on = 'AccusedRef', how = 'left')"
   ]
  },
  {
   "cell_type": "code",
   "execution_count": 18,
   "id": "e3b23fcb",
   "metadata": {},
   "outputs": [
    {
     "data": {
      "text/plain": [
       "(3594, 205)"
      ]
     },
     "execution_count": 18,
     "metadata": {},
     "output_type": "execute_result"
    }
   ],
   "source": [
    "accusedtrialcase.shape\n"
   ]
  },
  {
   "cell_type": "code",
   "execution_count": 19,
   "id": "83fa81d0",
   "metadata": {},
   "outputs": [
    {
     "data": {
      "text/plain": [
       "(3219, 31)"
      ]
     },
     "execution_count": 19,
     "metadata": {},
     "output_type": "execute_result"
    }
   ],
   "source": [
    "df_accused.shape"
   ]
  },
  {
   "cell_type": "code",
   "execution_count": 20,
   "id": "c3aeb728",
   "metadata": {},
   "outputs": [
    {
     "data": {
      "text/plain": [
       "Trialref\n",
       "T/JO/1712    1\n",
       "T/LA/211     1\n",
       "T/LA/951     1\n",
       "T/LA/203     1\n",
       "T/LA/173     1\n",
       "            ..\n",
       "T/JO/538     1\n",
       "T/LA/2074    1\n",
       "T/LA/2075    1\n",
       "T/LA/2076    1\n",
       "T/LA/2274    1\n",
       "Name: count, Length: 3210, dtype: int64"
      ]
     },
     "execution_count": 20,
     "metadata": {},
     "output_type": "execute_result"
    }
   ],
   "source": [
    "accusedtrialcase.Trialref.value_counts()"
   ]
  },
  {
   "cell_type": "code",
   "execution_count": 21,
   "id": "843bcbbb",
   "metadata": {},
   "outputs": [
    {
     "data": {
      "text/plain": [
       "Sex     Sentence          \n",
       "Female  Execution             0.675676\n",
       "        Released              0.154440\n",
       "        Banishment            0.100386\n",
       "        Declared Fugitive     0.038610\n",
       "        Excommunicated        0.023166\n",
       "        Branded               0.003861\n",
       "        Public Humiliation    0.003861\n",
       "Male    Execution             0.613636\n",
       "        Released              0.250000\n",
       "        Put to the horn       0.045455\n",
       "        Banishment            0.022727\n",
       "        Declared Fugitive     0.022727\n",
       "        Hang                  0.022727\n",
       "        Prison                0.022727\n",
       "Name: proportion, dtype: float64"
      ]
     },
     "execution_count": 21,
     "metadata": {},
     "output_type": "execute_result"
    }
   ],
   "source": [
    "#accusedtrialcase['sentence']['sex'].value_counts()\n",
    "accusedtrialcase.groupby(by = 'Sex').Sentence.value_counts(normalize = True)"
   ]
  },
  {
   "cell_type": "code",
   "execution_count": 22,
   "id": "ae59c0f2",
   "metadata": {},
   "outputs": [
    {
     "data": {
      "text/plain": [
       "Sex     Sentence          \n",
       "Female  Execution             175\n",
       "        Released               40\n",
       "        Banishment             26\n",
       "        Declared Fugitive      10\n",
       "        Excommunicated          6\n",
       "        Branded                 1\n",
       "        Public Humiliation      1\n",
       "Male    Execution              27\n",
       "        Released               11\n",
       "        Put to the horn         2\n",
       "        Banishment              1\n",
       "        Declared Fugitive       1\n",
       "        Hang                    1\n",
       "        Prison                  1\n",
       "Name: count, dtype: int64"
      ]
     },
     "execution_count": 22,
     "metadata": {},
     "output_type": "execute_result"
    }
   ],
   "source": [
    "accusedtrialcase.groupby(by = 'Sex').Sentence.value_counts()"
   ]
  },
  {
   "cell_type": "code",
   "execution_count": 23,
   "id": "6aa4848a",
   "metadata": {},
   "outputs": [
    {
     "data": {
      "text/plain": [
       "Sex     Executionmethod\n",
       "Female  Strangle & Burn    108\n",
       "        Burn                40\n",
       "        Beheading            2\n",
       "        Hang                 1\n",
       "Male    Strangle & Burn     17\n",
       "        Burn                 3\n",
       "        Beheading            1\n",
       "Name: count, dtype: int64"
      ]
     },
     "execution_count": 23,
     "metadata": {},
     "output_type": "execute_result"
    }
   ],
   "source": [
    "accusedtrialcase.groupby(by = 'Sex').Executionmethod.value_counts()"
   ]
  },
  {
   "cell_type": "code",
   "execution_count": 24,
   "id": "65b2da08",
   "metadata": {},
   "outputs": [
    {
     "data": {
      "text/plain": [
       "Sex     Executionmethod\n",
       "Female  Strangle & Burn    0.715232\n",
       "        Burn               0.264901\n",
       "        Beheading          0.013245\n",
       "        Hang               0.006623\n",
       "Male    Strangle & Burn    0.809524\n",
       "        Burn               0.142857\n",
       "        Beheading          0.047619\n",
       "Name: proportion, dtype: float64"
      ]
     },
     "execution_count": 24,
     "metadata": {},
     "output_type": "execute_result"
    }
   ],
   "source": [
    "accusedtrialcase.groupby(by = 'Sex').Executionmethod.value_counts(normalize = True)"
   ]
  },
  {
   "cell_type": "code",
   "execution_count": 25,
   "id": "12ccf787",
   "metadata": {},
   "outputs": [
    {
     "data": {
      "text/html": [
       "<div>\n",
       "<style scoped>\n",
       "    .dataframe tbody tr th:only-of-type {\n",
       "        vertical-align: middle;\n",
       "    }\n",
       "\n",
       "    .dataframe tbody tr th {\n",
       "        vertical-align: top;\n",
       "    }\n",
       "\n",
       "    .dataframe thead th {\n",
       "        text-align: right;\n",
       "    }\n",
       "</style>\n",
       "<table border=\"1\" class=\"dataframe\">\n",
       "  <thead>\n",
       "    <tr style=\"text-align: right;\">\n",
       "      <th></th>\n",
       "      <th>AccusedRef</th>\n",
       "      <th>AccusedSystemId</th>\n",
       "      <th>AccusedID</th>\n",
       "      <th>FirstName</th>\n",
       "      <th>LastName</th>\n",
       "      <th>M_Firstname</th>\n",
       "      <th>M_Surname</th>\n",
       "      <th>Alias</th>\n",
       "      <th>Patronymic</th>\n",
       "      <th>DesTitle</th>\n",
       "      <th>...</th>\n",
       "      <th>ClaimedPossessed</th>\n",
       "      <th>AdmitLesserCharge</th>\n",
       "      <th>ClaimedNaturalCauses</th>\n",
       "      <th>Nodefence</th>\n",
       "      <th>DefenseNotes</th>\n",
       "      <th>CaseNotes</th>\n",
       "      <th>Createdby_y</th>\n",
       "      <th>Createdate_y</th>\n",
       "      <th>Lastupdatedby_y</th>\n",
       "      <th>Lastupdatedon_y</th>\n",
       "    </tr>\n",
       "  </thead>\n",
       "  <tbody>\n",
       "    <tr>\n",
       "      <th>0</th>\n",
       "      <td>A/EGD/10</td>\n",
       "      <td>EGD</td>\n",
       "      <td>10</td>\n",
       "      <td>Mareon</td>\n",
       "      <td>Quheitt</td>\n",
       "      <td>Marion</td>\n",
       "      <td>White</td>\n",
       "      <td>NaN</td>\n",
       "      <td>NaN</td>\n",
       "      <td>NaN</td>\n",
       "      <td>...</td>\n",
       "      <td>0.0</td>\n",
       "      <td>0.0</td>\n",
       "      <td>0.0</td>\n",
       "      <td>0.0</td>\n",
       "      <td>NaN</td>\n",
       "      <td>NaN</td>\n",
       "      <td>SMD</td>\n",
       "      <td>05/15/01 17:00:16</td>\n",
       "      <td>jhm</td>\n",
       "      <td>10/23/02 16:38:58</td>\n",
       "    </tr>\n",
       "    <tr>\n",
       "      <th>1</th>\n",
       "      <td>A/EGD/100</td>\n",
       "      <td>EGD</td>\n",
       "      <td>100</td>\n",
       "      <td>Thom</td>\n",
       "      <td>Cockburn</td>\n",
       "      <td>Thomas</td>\n",
       "      <td>Cockburn</td>\n",
       "      <td>NaN</td>\n",
       "      <td>NaN</td>\n",
       "      <td>NaN</td>\n",
       "      <td>...</td>\n",
       "      <td>0.0</td>\n",
       "      <td>0.0</td>\n",
       "      <td>0.0</td>\n",
       "      <td>0.0</td>\n",
       "      <td>NaN</td>\n",
       "      <td>NaN</td>\n",
       "      <td>SMD</td>\n",
       "      <td>05/15/01 17:00:16</td>\n",
       "      <td>jhm</td>\n",
       "      <td>10/02/02 10:32:51</td>\n",
       "    </tr>\n",
       "    <tr>\n",
       "      <th>2</th>\n",
       "      <td>A/EGD/1000</td>\n",
       "      <td>EGD</td>\n",
       "      <td>1000</td>\n",
       "      <td>Christian</td>\n",
       "      <td>Aitkenhead</td>\n",
       "      <td>Christine</td>\n",
       "      <td>Aikenhead</td>\n",
       "      <td>NaN</td>\n",
       "      <td>NaN</td>\n",
       "      <td>NaN</td>\n",
       "      <td>...</td>\n",
       "      <td>0.0</td>\n",
       "      <td>0.0</td>\n",
       "      <td>0.0</td>\n",
       "      <td>0.0</td>\n",
       "      <td>NaN</td>\n",
       "      <td>NaN</td>\n",
       "      <td>SMD</td>\n",
       "      <td>05/15/01 17:00:16</td>\n",
       "      <td>jhm</td>\n",
       "      <td>10/01/02 10:48:12</td>\n",
       "    </tr>\n",
       "    <tr>\n",
       "      <th>3</th>\n",
       "      <td>A/EGD/1001</td>\n",
       "      <td>EGD</td>\n",
       "      <td>1001</td>\n",
       "      <td>Janet</td>\n",
       "      <td>Ireland</td>\n",
       "      <td>Janet</td>\n",
       "      <td>Ireland</td>\n",
       "      <td>NaN</td>\n",
       "      <td>NaN</td>\n",
       "      <td>NaN</td>\n",
       "      <td>...</td>\n",
       "      <td>0.0</td>\n",
       "      <td>0.0</td>\n",
       "      <td>0.0</td>\n",
       "      <td>0.0</td>\n",
       "      <td>NaN</td>\n",
       "      <td>NaN</td>\n",
       "      <td>SMD</td>\n",
       "      <td>05/15/01 17:00:16</td>\n",
       "      <td>jhm</td>\n",
       "      <td>10/01/02 10:49:00</td>\n",
       "    </tr>\n",
       "    <tr>\n",
       "      <th>4</th>\n",
       "      <td>A/EGD/1002</td>\n",
       "      <td>EGD</td>\n",
       "      <td>1002</td>\n",
       "      <td>Agnes</td>\n",
       "      <td>Hendersoun</td>\n",
       "      <td>Agnes</td>\n",
       "      <td>Henderson</td>\n",
       "      <td>NaN</td>\n",
       "      <td>NaN</td>\n",
       "      <td>NaN</td>\n",
       "      <td>...</td>\n",
       "      <td>0.0</td>\n",
       "      <td>0.0</td>\n",
       "      <td>0.0</td>\n",
       "      <td>0.0</td>\n",
       "      <td>NaN</td>\n",
       "      <td>NaN</td>\n",
       "      <td>SMD</td>\n",
       "      <td>05/15/01 17:00:16</td>\n",
       "      <td>jhm</td>\n",
       "      <td>10/01/02 10:50:07</td>\n",
       "    </tr>\n",
       "    <tr>\n",
       "      <th>5</th>\n",
       "      <td>A/EGD/1003</td>\n",
       "      <td>EGD</td>\n",
       "      <td>1003</td>\n",
       "      <td>Margaret</td>\n",
       "      <td>Young</td>\n",
       "      <td>Margaret</td>\n",
       "      <td>Young</td>\n",
       "      <td>NaN</td>\n",
       "      <td>NaN</td>\n",
       "      <td>NaN</td>\n",
       "      <td>...</td>\n",
       "      <td>0.0</td>\n",
       "      <td>0.0</td>\n",
       "      <td>0.0</td>\n",
       "      <td>0.0</td>\n",
       "      <td>NaN</td>\n",
       "      <td>NaN</td>\n",
       "      <td>SMD</td>\n",
       "      <td>05/15/01 17:00:16</td>\n",
       "      <td>jhm</td>\n",
       "      <td>10/01/02 10:51:51</td>\n",
       "    </tr>\n",
       "    <tr>\n",
       "      <th>6</th>\n",
       "      <td>A/EGD/1004</td>\n",
       "      <td>EGD</td>\n",
       "      <td>1004</td>\n",
       "      <td>Margaret</td>\n",
       "      <td>Ridpeth</td>\n",
       "      <td>Margaret</td>\n",
       "      <td>Redpath</td>\n",
       "      <td>NaN</td>\n",
       "      <td>NaN</td>\n",
       "      <td>NaN</td>\n",
       "      <td>...</td>\n",
       "      <td>0.0</td>\n",
       "      <td>0.0</td>\n",
       "      <td>0.0</td>\n",
       "      <td>0.0</td>\n",
       "      <td>NaN</td>\n",
       "      <td>NaN</td>\n",
       "      <td>SMD</td>\n",
       "      <td>05/15/01 17:00:16</td>\n",
       "      <td>jhm</td>\n",
       "      <td>10/01/02 10:53:14</td>\n",
       "    </tr>\n",
       "    <tr>\n",
       "      <th>7</th>\n",
       "      <td>A/EGD/1005</td>\n",
       "      <td>EGD</td>\n",
       "      <td>1005</td>\n",
       "      <td>Janet</td>\n",
       "      <td>Reid</td>\n",
       "      <td>Janet</td>\n",
       "      <td>Reid</td>\n",
       "      <td>NaN</td>\n",
       "      <td>NaN</td>\n",
       "      <td>NaN</td>\n",
       "      <td>...</td>\n",
       "      <td>0.0</td>\n",
       "      <td>0.0</td>\n",
       "      <td>0.0</td>\n",
       "      <td>0.0</td>\n",
       "      <td>NaN</td>\n",
       "      <td>NaN</td>\n",
       "      <td>SMD</td>\n",
       "      <td>05/15/01 17:00:16</td>\n",
       "      <td>LEM</td>\n",
       "      <td>10/10/02 14:32:10</td>\n",
       "    </tr>\n",
       "    <tr>\n",
       "      <th>8</th>\n",
       "      <td>A/EGD/1005</td>\n",
       "      <td>EGD</td>\n",
       "      <td>1005</td>\n",
       "      <td>Janet</td>\n",
       "      <td>Reid</td>\n",
       "      <td>Janet</td>\n",
       "      <td>Reid</td>\n",
       "      <td>NaN</td>\n",
       "      <td>NaN</td>\n",
       "      <td>NaN</td>\n",
       "      <td>...</td>\n",
       "      <td>0.0</td>\n",
       "      <td>0.0</td>\n",
       "      <td>0.0</td>\n",
       "      <td>0.0</td>\n",
       "      <td>NaN</td>\n",
       "      <td>NaN</td>\n",
       "      <td>SMD</td>\n",
       "      <td>05/15/01 17:00:16</td>\n",
       "      <td>LEM</td>\n",
       "      <td>10/10/02 14:32:10</td>\n",
       "    </tr>\n",
       "    <tr>\n",
       "      <th>9</th>\n",
       "      <td>A/EGD/1006</td>\n",
       "      <td>EGD</td>\n",
       "      <td>1006</td>\n",
       "      <td>Agnes</td>\n",
       "      <td>Rankein</td>\n",
       "      <td>Agnes</td>\n",
       "      <td>Rankin</td>\n",
       "      <td>NaN</td>\n",
       "      <td>NaN</td>\n",
       "      <td>NaN</td>\n",
       "      <td>...</td>\n",
       "      <td>0.0</td>\n",
       "      <td>0.0</td>\n",
       "      <td>0.0</td>\n",
       "      <td>0.0</td>\n",
       "      <td>NaN</td>\n",
       "      <td>NaN</td>\n",
       "      <td>SMD</td>\n",
       "      <td>05/15/01 17:00:16</td>\n",
       "      <td>jhm</td>\n",
       "      <td>10/01/02 10:56:12</td>\n",
       "    </tr>\n",
       "  </tbody>\n",
       "</table>\n",
       "<p>10 rows × 205 columns</p>\n",
       "</div>"
      ],
      "text/plain": [
       "   AccusedRef AccusedSystemId  AccusedID  FirstName    LastName M_Firstname  \\\n",
       "0    A/EGD/10             EGD         10     Mareon     Quheitt      Marion   \n",
       "1   A/EGD/100             EGD        100       Thom    Cockburn      Thomas   \n",
       "2  A/EGD/1000             EGD       1000  Christian  Aitkenhead   Christine   \n",
       "3  A/EGD/1001             EGD       1001      Janet     Ireland       Janet   \n",
       "4  A/EGD/1002             EGD       1002      Agnes  Hendersoun       Agnes   \n",
       "5  A/EGD/1003             EGD       1003   Margaret       Young    Margaret   \n",
       "6  A/EGD/1004             EGD       1004   Margaret     Ridpeth    Margaret   \n",
       "7  A/EGD/1005             EGD       1005      Janet        Reid       Janet   \n",
       "8  A/EGD/1005             EGD       1005      Janet        Reid       Janet   \n",
       "9  A/EGD/1006             EGD       1006      Agnes     Rankein       Agnes   \n",
       "\n",
       "   M_Surname Alias Patronymic DesTitle  ... ClaimedPossessed  \\\n",
       "0      White   NaN        NaN      NaN  ...              0.0   \n",
       "1   Cockburn   NaN        NaN      NaN  ...              0.0   \n",
       "2  Aikenhead   NaN        NaN      NaN  ...              0.0   \n",
       "3    Ireland   NaN        NaN      NaN  ...              0.0   \n",
       "4  Henderson   NaN        NaN      NaN  ...              0.0   \n",
       "5      Young   NaN        NaN      NaN  ...              0.0   \n",
       "6    Redpath   NaN        NaN      NaN  ...              0.0   \n",
       "7       Reid   NaN        NaN      NaN  ...              0.0   \n",
       "8       Reid   NaN        NaN      NaN  ...              0.0   \n",
       "9     Rankin   NaN        NaN      NaN  ...              0.0   \n",
       "\n",
       "   AdmitLesserCharge  ClaimedNaturalCauses  Nodefence DefenseNotes CaseNotes  \\\n",
       "0                0.0                   0.0        0.0          NaN       NaN   \n",
       "1                0.0                   0.0        0.0          NaN       NaN   \n",
       "2                0.0                   0.0        0.0          NaN       NaN   \n",
       "3                0.0                   0.0        0.0          NaN       NaN   \n",
       "4                0.0                   0.0        0.0          NaN       NaN   \n",
       "5                0.0                   0.0        0.0          NaN       NaN   \n",
       "6                0.0                   0.0        0.0          NaN       NaN   \n",
       "7                0.0                   0.0        0.0          NaN       NaN   \n",
       "8                0.0                   0.0        0.0          NaN       NaN   \n",
       "9                0.0                   0.0        0.0          NaN       NaN   \n",
       "\n",
       "  Createdby_y       Createdate_y Lastupdatedby_y    Lastupdatedon_y  \n",
       "0         SMD  05/15/01 17:00:16             jhm  10/23/02 16:38:58  \n",
       "1         SMD  05/15/01 17:00:16             jhm  10/02/02 10:32:51  \n",
       "2         SMD  05/15/01 17:00:16             jhm  10/01/02 10:48:12  \n",
       "3         SMD  05/15/01 17:00:16             jhm  10/01/02 10:49:00  \n",
       "4         SMD  05/15/01 17:00:16             jhm  10/01/02 10:50:07  \n",
       "5         SMD  05/15/01 17:00:16             jhm  10/01/02 10:51:51  \n",
       "6         SMD  05/15/01 17:00:16             jhm  10/01/02 10:53:14  \n",
       "7         SMD  05/15/01 17:00:16             LEM  10/10/02 14:32:10  \n",
       "8         SMD  05/15/01 17:00:16             LEM  10/10/02 14:32:10  \n",
       "9         SMD  05/15/01 17:00:16             jhm  10/01/02 10:56:12  \n",
       "\n",
       "[10 rows x 205 columns]"
      ]
     },
     "execution_count": 25,
     "metadata": {},
     "output_type": "execute_result"
    }
   ],
   "source": [
    "accusedtrialcase.head(10)"
   ]
  },
  {
   "cell_type": "code",
   "execution_count": 26,
   "id": "e1d21692",
   "metadata": {},
   "outputs": [],
   "source": [
    "pd.set_option('display.max_columns', None)\n"
   ]
  },
  {
   "cell_type": "code",
   "execution_count": 27,
   "id": "d6e637ba",
   "metadata": {},
   "outputs": [
    {
     "data": {
      "text/plain": [
       "Sex     HealingHumans\n",
       "Female  0.0              0.956522\n",
       "        1.0              0.043478\n",
       "Male    0.0              0.949561\n",
       "        1.0              0.050439\n",
       "Name: proportion, dtype: float64"
      ]
     },
     "execution_count": 27,
     "metadata": {},
     "output_type": "execute_result"
    }
   ],
   "source": [
    "accusedtrialcase.groupby(by = 'Sex').HealingHumans.value_counts(normalize = 'True')"
   ]
  },
  {
   "cell_type": "code",
   "execution_count": 28,
   "id": "675d39b0",
   "metadata": {},
   "outputs": [
    {
     "data": {
      "text/plain": [
       "Sex     HealingAnimals\n",
       "Female  0.0               0.983419\n",
       "        1.0               0.016581\n",
       "Male    0.0               0.962719\n",
       "        1.0               0.037281\n",
       "Name: proportion, dtype: float64"
      ]
     },
     "execution_count": 28,
     "metadata": {},
     "output_type": "execute_result"
    }
   ],
   "source": [
    "accusedtrialcase.groupby(by = 'Sex').HealingAnimals.value_counts(normalize = 'True')"
   ]
  },
  {
   "cell_type": "code",
   "execution_count": 29,
   "id": "e3093eb0",
   "metadata": {},
   "outputs": [
    {
     "data": {
      "text/plain": [
       "Sex     RecHealer\n",
       "Female  0.0          2677\n",
       "        1.0            37\n",
       "Male    0.0           438\n",
       "        1.0            18\n",
       "Name: count, dtype: int64"
      ]
     },
     "execution_count": 29,
     "metadata": {},
     "output_type": "execute_result"
    }
   ],
   "source": [
    "accusedtrialcase.groupby(by = 'Sex').RecHealer.value_counts()"
   ]
  },
  {
   "cell_type": "code",
   "execution_count": 30,
   "id": "67805c7a",
   "metadata": {},
   "outputs": [
    {
     "data": {
      "text/plain": [
       "Sex     HumanDeath\n",
       "Female  0.0           2463\n",
       "        1.0            251\n",
       "Male    0.0            428\n",
       "        1.0             28\n",
       "Name: count, dtype: int64"
      ]
     },
     "execution_count": 30,
     "metadata": {},
     "output_type": "execute_result"
    }
   ],
   "source": [
    "accusedtrialcase.groupby(by = 'Sex').HumanDeath.value_counts()"
   ]
  },
  {
   "cell_type": "code",
   "execution_count": 31,
   "id": "15af2578",
   "metadata": {},
   "outputs": [
    {
     "data": {
      "text/plain": [
       "Sex     HumanDeath\n",
       "Female  0.0           0.907517\n",
       "        1.0           0.092483\n",
       "Male    0.0           0.938596\n",
       "        1.0           0.061404\n",
       "Name: proportion, dtype: float64"
      ]
     },
     "execution_count": 31,
     "metadata": {},
     "output_type": "execute_result"
    }
   ],
   "source": [
    "accusedtrialcase.groupby(by = 'Sex').HumanDeath.value_counts(normalize = True)"
   ]
  },
  {
   "cell_type": "code",
   "execution_count": 32,
   "id": "2fa5f0b8",
   "metadata": {},
   "outputs": [
    {
     "data": {
      "text/plain": [
       "Sex     SympatheticMagic\n",
       "Female  0.0                 2551\n",
       "        1.0                  163\n",
       "Male    0.0                  418\n",
       "        1.0                   38\n",
       "Name: count, dtype: int64"
      ]
     },
     "execution_count": 32,
     "metadata": {},
     "output_type": "execute_result"
    }
   ],
   "source": [
    "accusedtrialcase.groupby(by = 'Sex').SympatheticMagic.value_counts()"
   ]
  },
  {
   "cell_type": "code",
   "execution_count": 33,
   "id": "003d074b",
   "metadata": {},
   "outputs": [
    {
     "data": {
      "text/plain": [
       "Sex     WhiteMagic_s\n",
       "Female  0.0             2641\n",
       "        1.0               73\n",
       "Male    0.0              436\n",
       "        1.0               20\n",
       "Name: count, dtype: int64"
      ]
     },
     "execution_count": 33,
     "metadata": {},
     "output_type": "execute_result"
    }
   ],
   "source": [
    "accusedtrialcase.groupby(by = 'Sex').WhiteMagic_s.value_counts()"
   ]
  },
  {
   "cell_type": "code",
   "execution_count": 34,
   "id": "40f71ea7",
   "metadata": {},
   "outputs": [
    {
     "data": {
      "text/plain": [
       "Sentence            WhiteMagic_s\n",
       "Banishment          0.0              25\n",
       "                    1.0               2\n",
       "Branded             1.0               1\n",
       "Declared Fugitive   0.0              11\n",
       "Excommunicated      0.0               5\n",
       "                    1.0               1\n",
       "Execution           0.0             178\n",
       "                    1.0              27\n",
       "Hang                1.0               1\n",
       "Prison              0.0               1\n",
       "Public Humiliation  0.0               1\n",
       "Put to the horn     1.0               2\n",
       "Released            0.0              52\n",
       "Name: count, dtype: int64"
      ]
     },
     "execution_count": 34,
     "metadata": {},
     "output_type": "execute_result"
    }
   ],
   "source": [
    "accusedtrialcase.groupby(by = 'Sentence').WhiteMagic_s.value_counts()"
   ]
  },
  {
   "cell_type": "code",
   "execution_count": 35,
   "id": "2fe842bb",
   "metadata": {},
   "outputs": [
    {
     "data": {
      "text/plain": [
       "Sentence            Treason_s\n",
       "Banishment          0.0           27\n",
       "Branded             0.0            1\n",
       "Declared Fugitive   0.0           11\n",
       "Excommunicated      0.0            6\n",
       "Execution           0.0          199\n",
       "                    1.0            6\n",
       "Hang                0.0            1\n",
       "Prison              0.0            1\n",
       "Public Humiliation  0.0            1\n",
       "Put to the horn     0.0            2\n",
       "Released            0.0           52\n",
       "Name: count, dtype: int64"
      ]
     },
     "execution_count": 35,
     "metadata": {},
     "output_type": "execute_result"
    }
   ],
   "source": [
    "accusedtrialcase.groupby(by = 'Sentence').Treason_s.value_counts()"
   ]
  },
  {
   "cell_type": "code",
   "execution_count": 37,
   "id": "cd126467",
   "metadata": {},
   "outputs": [
    {
     "data": {
      "text/plain": [
       "Sentence            Res_county   \n",
       "Banishment          Aberdeen          6\n",
       "                    Dumfries          5\n",
       "                    Clackmannan       3\n",
       "                    Edinburgh         3\n",
       "                    Banff             2\n",
       "                    Linlithgow        2\n",
       "                    Orkney            2\n",
       "                    Forfar            1\n",
       "                    Fife              1\n",
       "                    Ayr               1\n",
       "Branded             Orkney            1\n",
       "Declared Fugitive   Haddington        8\n",
       "                    Edinburgh         2\n",
       "Excommunicated      Wigtown           2\n",
       "                    Fife              2\n",
       "                    Aberdeen          1\n",
       "                    Stirling          1\n",
       "Execution           Edinburgh        58\n",
       "                    Aberdeen         23\n",
       "                    Perth            17\n",
       "                    Haddington       17\n",
       "                    Ayr              17\n",
       "                    Renfrew          13\n",
       "                    Orkney           12\n",
       "                    Fife             10\n",
       "                    Kirkcudbright     8\n",
       "                    Dumfries          8\n",
       "                    Lanark            4\n",
       "                    Shetland          4\n",
       "                    Ross              2\n",
       "                    Peebles           2\n",
       "                    Inverness         2\n",
       "                    Berwick           2\n",
       "                    Bute              1\n",
       "                    Clackmannan       1\n",
       "                    Stirling          1\n",
       "                    Kinross           1\n",
       "Hang                Argyll            1\n",
       "Prison              Haddington        1\n",
       "Public Humiliation  Ayr               1\n",
       "Put to the horn     Dunbarton         2\n",
       "Released            Renfrew          24\n",
       "                    Lanark            7\n",
       "                    Stirling          6\n",
       "                    Peebles           3\n",
       "                    Edinburgh         3\n",
       "                    Dumfries          3\n",
       "                    Selkirk           1\n",
       "                    Ross              1\n",
       "                    Inverness         1\n",
       "                    Haddington        1\n",
       "                    Fife              1\n",
       "                    Berwick           1\n",
       "Name: count, dtype: int64"
      ]
     },
     "execution_count": 37,
     "metadata": {},
     "output_type": "execute_result"
    }
   ],
   "source": [
    "accusedtrialcase.groupby(by = 'Sentence').Res_county.value_counts()"
   ]
  },
  {
   "cell_type": "code",
   "execution_count": 44,
   "id": "73db9706",
   "metadata": {},
   "outputs": [],
   "source": [
    "small_accusedtrialcase = accusedtrialcase[['Sentence', 'Execution', 'Executionmethod', 'Res_county', 'Sex', 'AccusedRef', 'Case_date']].copy()"
   ]
  },
  {
   "cell_type": "code",
   "execution_count": 45,
   "id": "80c1013b",
   "metadata": {},
   "outputs": [],
   "source": [
    "#df_case['Case_year'] = df_case['Case_date'].str[-4:]\n",
    "small_accusedtrialcase['Case_year'] = small_accusedtrialcase['Case_date'].str[-4:]"
   ]
  },
  {
   "cell_type": "code",
   "execution_count": 52,
   "id": "0f49c753",
   "metadata": {},
   "outputs": [],
   "source": [
    "small_accusedtrial = small_accusedtrialcase[small_accusedtrialcase.Sentence.notna()]"
   ]
  },
  {
   "cell_type": "code",
   "execution_count": 59,
   "id": "cab18041",
   "metadata": {},
   "outputs": [
    {
     "data": {
      "text/plain": [
       "Execution  Res_county   \n",
       "0.0        Renfrew          0.211864\n",
       "           Haddington       0.093220\n",
       "           Dumfries         0.076271\n",
       "           Edinburgh        0.076271\n",
       "           Aberdeen         0.067797\n",
       "           Ayr              0.067797\n",
       "           Lanark           0.059322\n",
       "           Stirling         0.059322\n",
       "           Orkney           0.042373\n",
       "           Fife             0.042373\n",
       "           Peebles          0.025424\n",
       "           Inverness        0.025424\n",
       "           Clackmannan      0.025424\n",
       "           Banff            0.016949\n",
       "           Dunbarton        0.016949\n",
       "           Linlithgow       0.016949\n",
       "           Wigtown          0.016949\n",
       "           Perth            0.016949\n",
       "           Forfar           0.008475\n",
       "           Argyll           0.008475\n",
       "           Selkirk          0.008475\n",
       "           Berwick          0.008475\n",
       "           Ross             0.008475\n",
       "1.0        Edinburgh        0.308108\n",
       "           Aberdeen         0.118919\n",
       "           Haddington       0.086486\n",
       "           Perth            0.081081\n",
       "           Renfrew          0.064865\n",
       "           Ayr              0.059459\n",
       "           Orkney           0.054054\n",
       "           Fife             0.048649\n",
       "           Kirkcudbright    0.043243\n",
       "           Dumfries         0.037838\n",
       "           Shetland         0.021622\n",
       "           Lanark           0.021622\n",
       "           Berwick          0.010811\n",
       "           Peebles          0.010811\n",
       "           Ross             0.010811\n",
       "           Clackmannan      0.005405\n",
       "           Bute             0.005405\n",
       "           Kinross          0.005405\n",
       "           Stirling         0.005405\n",
       "Name: proportion, dtype: float64"
      ]
     },
     "execution_count": 59,
     "metadata": {},
     "output_type": "execute_result"
    }
   ],
   "source": [
    "small_accusedtrial.groupby(by = 'Execution').Res_county.value_counts(normalize = True)"
   ]
  },
  {
   "cell_type": "code",
   "execution_count": 61,
   "id": "ef7ecbd7",
   "metadata": {},
   "outputs": [
    {
     "data": {
      "text/plain": [
       "Res_county\n",
       "Haddington       0.189407\n",
       "Edinburgh        0.125792\n",
       "Fife             0.119171\n",
       "Aberdeen         0.055843\n",
       "Ayr              0.046056\n",
       "Berwick          0.042602\n",
       "Linlithgow       0.037421\n",
       "Renfrew          0.036269\n",
       "Perth            0.032815\n",
       "Peebles          0.029073\n",
       "Lanark           0.027634\n",
       "Dumfries         0.024467\n",
       "Ross             0.024467\n",
       "Forfar           0.024180\n",
       "Orkney           0.022740\n",
       "Bute             0.018135\n",
       "Roxburgh         0.017271\n",
       "Stirling         0.016408\n",
       "Nairn            0.015832\n",
       "Caithness        0.014968\n",
       "Inverness        0.013241\n",
       "Kirkcudbright    0.010651\n",
       "Clackmannan      0.008923\n",
       "Shetland         0.008348\n",
       "Elgin            0.008060\n",
       "Dunbarton        0.007196\n",
       "Selkirk          0.006045\n",
       "Sutherland       0.004606\n",
       "Wigtown          0.004318\n",
       "Banff            0.002879\n",
       "Kinross          0.002303\n",
       "Argyll           0.001727\n",
       "Cromarty         0.000576\n",
       "Kincardine       0.000576\n",
       "Name: proportion, dtype: float64"
      ]
     },
     "execution_count": 61,
     "metadata": {},
     "output_type": "execute_result"
    }
   ],
   "source": [
    "small_accusedtrialcase.Res_county.value_counts(normalize = True)"
   ]
  },
  {
   "cell_type": "code",
   "execution_count": 69,
   "id": "66ee17bc",
   "metadata": {},
   "outputs": [],
   "source": [
    "execution_df = small_accusedtrialcase[small_accusedtrialcase.Execution == 1.0]"
   ]
  },
  {
   "cell_type": "code",
   "execution_count": 72,
   "id": "be32635b",
   "metadata": {},
   "outputs": [
    {
     "data": {
      "text/html": [
       "<div>\n",
       "<style scoped>\n",
       "    .dataframe tbody tr th:only-of-type {\n",
       "        vertical-align: middle;\n",
       "    }\n",
       "\n",
       "    .dataframe tbody tr th {\n",
       "        vertical-align: top;\n",
       "    }\n",
       "\n",
       "    .dataframe thead th {\n",
       "        text-align: right;\n",
       "    }\n",
       "</style>\n",
       "<table border=\"1\" class=\"dataframe\">\n",
       "  <thead>\n",
       "    <tr style=\"text-align: right;\">\n",
       "      <th></th>\n",
       "      <th>Sentence</th>\n",
       "      <th>Execution</th>\n",
       "      <th>Executionmethod</th>\n",
       "      <th>Res_county</th>\n",
       "      <th>Sex</th>\n",
       "      <th>AccusedRef</th>\n",
       "      <th>Case_date</th>\n",
       "      <th>Case_year</th>\n",
       "    </tr>\n",
       "  </thead>\n",
       "  <tbody>\n",
       "    <tr>\n",
       "      <th>7</th>\n",
       "      <td>NaN</td>\n",
       "      <td>1.0</td>\n",
       "      <td>NaN</td>\n",
       "      <td>Haddington</td>\n",
       "      <td>Female</td>\n",
       "      <td>A/EGD/1005</td>\n",
       "      <td>3/7/1628</td>\n",
       "      <td>1628</td>\n",
       "    </tr>\n",
       "    <tr>\n",
       "      <th>47</th>\n",
       "      <td>NaN</td>\n",
       "      <td>1.0</td>\n",
       "      <td>NaN</td>\n",
       "      <td>Dunbarton</td>\n",
       "      <td>Female</td>\n",
       "      <td>A/EGD/1043</td>\n",
       "      <td>13/1/1629</td>\n",
       "      <td>1629</td>\n",
       "    </tr>\n",
       "    <tr>\n",
       "      <th>51</th>\n",
       "      <td>Execution</td>\n",
       "      <td>1.0</td>\n",
       "      <td>Strangle &amp; Burn</td>\n",
       "      <td>Edinburgh</td>\n",
       "      <td>Female</td>\n",
       "      <td>A/EGD/1047</td>\n",
       "      <td>27/1/1629</td>\n",
       "      <td>1629</td>\n",
       "    </tr>\n",
       "    <tr>\n",
       "      <th>52</th>\n",
       "      <td>Execution</td>\n",
       "      <td>1.0</td>\n",
       "      <td>Burn</td>\n",
       "      <td>Edinburgh</td>\n",
       "      <td>Female</td>\n",
       "      <td>A/EGD/1048</td>\n",
       "      <td>25/11/1628</td>\n",
       "      <td>1628</td>\n",
       "    </tr>\n",
       "    <tr>\n",
       "      <th>91</th>\n",
       "      <td>Execution</td>\n",
       "      <td>1.0</td>\n",
       "      <td>Strangle &amp; Burn</td>\n",
       "      <td>Perth</td>\n",
       "      <td>Male</td>\n",
       "      <td>A/EGD/1082</td>\n",
       "      <td>11/7/1629</td>\n",
       "      <td>1629</td>\n",
       "    </tr>\n",
       "    <tr>\n",
       "      <th>...</th>\n",
       "      <td>...</td>\n",
       "      <td>...</td>\n",
       "      <td>...</td>\n",
       "      <td>...</td>\n",
       "      <td>...</td>\n",
       "      <td>...</td>\n",
       "      <td>...</td>\n",
       "      <td>...</td>\n",
       "    </tr>\n",
       "    <tr>\n",
       "      <th>3435</th>\n",
       "      <td>Execution</td>\n",
       "      <td>1.0</td>\n",
       "      <td>NaN</td>\n",
       "      <td>Ayr</td>\n",
       "      <td>Female</td>\n",
       "      <td>A/LA/3035</td>\n",
       "      <td>1614</td>\n",
       "      <td>1614</td>\n",
       "    </tr>\n",
       "    <tr>\n",
       "      <th>3436</th>\n",
       "      <td>Execution</td>\n",
       "      <td>1.0</td>\n",
       "      <td>Burn</td>\n",
       "      <td>Ayr</td>\n",
       "      <td>Female</td>\n",
       "      <td>A/LA/3036</td>\n",
       "      <td>1618</td>\n",
       "      <td>1618</td>\n",
       "    </tr>\n",
       "    <tr>\n",
       "      <th>3473</th>\n",
       "      <td>Execution</td>\n",
       "      <td>1.0</td>\n",
       "      <td>NaN</td>\n",
       "      <td>Kirkcudbright</td>\n",
       "      <td>Female</td>\n",
       "      <td>A/LA/3074</td>\n",
       "      <td>26/7/1698</td>\n",
       "      <td>1698</td>\n",
       "    </tr>\n",
       "    <tr>\n",
       "      <th>3484</th>\n",
       "      <td>Execution</td>\n",
       "      <td>1.0</td>\n",
       "      <td>Burn</td>\n",
       "      <td>Ross</td>\n",
       "      <td>Female</td>\n",
       "      <td>A/LA/3085</td>\n",
       "      <td>20/1/1631</td>\n",
       "      <td>1631</td>\n",
       "    </tr>\n",
       "    <tr>\n",
       "      <th>3514</th>\n",
       "      <td>Execution</td>\n",
       "      <td>1.0</td>\n",
       "      <td>Strangle &amp; Burn</td>\n",
       "      <td>Haddington</td>\n",
       "      <td>Female</td>\n",
       "      <td>A/LA/3115</td>\n",
       "      <td>6/1/1635</td>\n",
       "      <td>1635</td>\n",
       "    </tr>\n",
       "  </tbody>\n",
       "</table>\n",
       "<p>230 rows × 8 columns</p>\n",
       "</div>"
      ],
      "text/plain": [
       "       Sentence  Execution  Executionmethod     Res_county     Sex  \\\n",
       "7           NaN        1.0              NaN     Haddington  Female   \n",
       "47          NaN        1.0              NaN      Dunbarton  Female   \n",
       "51    Execution        1.0  Strangle & Burn      Edinburgh  Female   \n",
       "52    Execution        1.0             Burn      Edinburgh  Female   \n",
       "91    Execution        1.0  Strangle & Burn          Perth    Male   \n",
       "...         ...        ...              ...            ...     ...   \n",
       "3435  Execution        1.0              NaN            Ayr  Female   \n",
       "3436  Execution        1.0             Burn            Ayr  Female   \n",
       "3473  Execution        1.0              NaN  Kirkcudbright  Female   \n",
       "3484  Execution        1.0             Burn           Ross  Female   \n",
       "3514  Execution        1.0  Strangle & Burn     Haddington  Female   \n",
       "\n",
       "      AccusedRef   Case_date Case_year  \n",
       "7     A/EGD/1005    3/7/1628      1628  \n",
       "47    A/EGD/1043   13/1/1629      1629  \n",
       "51    A/EGD/1047   27/1/1629      1629  \n",
       "52    A/EGD/1048  25/11/1628      1628  \n",
       "91    A/EGD/1082   11/7/1629      1629  \n",
       "...          ...         ...       ...  \n",
       "3435   A/LA/3035        1614      1614  \n",
       "3436   A/LA/3036        1618      1618  \n",
       "3473   A/LA/3074   26/7/1698      1698  \n",
       "3484   A/LA/3085   20/1/1631      1631  \n",
       "3514   A/LA/3115    6/1/1635      1635  \n",
       "\n",
       "[230 rows x 8 columns]"
      ]
     },
     "execution_count": 72,
     "metadata": {},
     "output_type": "execute_result"
    }
   ],
   "source": [
    "execution_df"
   ]
  },
  {
   "cell_type": "code",
   "execution_count": 74,
   "id": "26da79df",
   "metadata": {},
   "outputs": [],
   "source": [
    "execution_graph_df = execution_df[['Sex', 'Case_year']].copy()"
   ]
  },
  {
   "cell_type": "code",
   "execution_count": 75,
   "id": "b588fda7",
   "metadata": {},
   "outputs": [],
   "source": [
    "#not_lothian_pivot = pd.pivot_table(not_lothian_df_sex, index = 'Case_year', columns = 'Sex', aggfunc = 'size', fill_value = 0).reset_index()\n",
    "\n",
    "execution_pivot = pd.pivot_table(execution_graph_df, index = 'Case_year', columns = 'Sex', aggfunc = 'size', fill_value = 0).reset_index()"
   ]
  },
  {
   "cell_type": "code",
   "execution_count": 77,
   "id": "24a265af",
   "metadata": {},
   "outputs": [],
   "source": [
    "execution_pivot.to_csv('execution_pivot.csv')"
   ]
  },
  {
   "cell_type": "code",
   "execution_count": null,
   "id": "2761bb84",
   "metadata": {},
   "outputs": [],
   "source": []
  }
 ],
 "metadata": {
  "kernelspec": {
   "display_name": "Python 3 (ipykernel)",
   "language": "python",
   "name": "python3"
  },
  "language_info": {
   "codemirror_mode": {
    "name": "ipython",
    "version": 3
   },
   "file_extension": ".py",
   "mimetype": "text/x-python",
   "name": "python",
   "nbconvert_exporter": "python",
   "pygments_lexer": "ipython3",
   "version": "3.10.11"
  }
 },
 "nbformat": 4,
 "nbformat_minor": 5
}
